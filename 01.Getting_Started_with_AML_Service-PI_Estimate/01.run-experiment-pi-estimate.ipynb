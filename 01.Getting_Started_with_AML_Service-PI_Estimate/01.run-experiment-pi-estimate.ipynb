{
 "cells": [
  {
   "cell_type": "code",
   "execution_count": 1,
   "metadata": {},
   "outputs": [
    {
     "name": "stdout",
     "output_type": "stream",
     "text": [
      "This notebook was created using version 1.0.2 of the Azure ML SDK\n",
      "You are currently using version 1.0.53 of the Azure ML SDK\n"
     ]
    }
   ],
   "source": [
    "# https://notebooks.azure.com/azureml/projects/azureml-getting-started/html/configuration.ipynb#Configuration\n",
    "import azureml.core\n",
    "\n",
    "print(\"This notebook was created using version 1.0.2 of the Azure ML SDK\")\n",
    "print(\"You are currently using version\", azureml.core.VERSION, \"of the Azure ML SDK\")"
   ]
  },
  {
   "cell_type": "code",
   "execution_count": 2,
   "metadata": {
    "scrolled": false
   },
   "outputs": [
    {
     "data": {
      "text/plain": [
       "{'applicationInsights': '/subscriptions/165934ca-a3be-4df3-842b-332997fcecd9/resourcegroups/myresourcegroup/providers/microsoft.insights/components/llachmanmlwork7726509491',\n",
       " 'containerRegistry': '/subscriptions/165934ca-a3be-4df3-842b-332997fcecd9/resourceGroups/MyResourceGroup/providers/Microsoft.ContainerRegistry/registries/llachmanmlwo5de1ae17',\n",
       " 'creationTime': '2019-08-10T02:16:58.7668266+00:00',\n",
       " 'description': '',\n",
       " 'friendlyName': '',\n",
       " 'id': '/subscriptions/165934ca-a3be-4df3-842b-332997fcecd9/resourceGroups/MyResourceGroup/providers/Microsoft.MachineLearningServices/workspaces/llachmanMLWorkspace',\n",
       " 'identityPrincipalId': '2166891c-3629-4f17-8f8e-72c1b4d8d9fb',\n",
       " 'identityTenantId': 'c7970e8d-6d07-4b20-bf16-eba4864e56ef',\n",
       " 'identityType': 'SystemAssigned',\n",
       " 'keyVault': '/subscriptions/165934ca-a3be-4df3-842b-332997fcecd9/resourcegroups/myresourcegroup/providers/microsoft.keyvault/vaults/llachmanmlwork6145098727',\n",
       " 'location': 'centralus',\n",
       " 'name': 'llachmanMLWorkspace',\n",
       " 'storageAccount': '/subscriptions/165934ca-a3be-4df3-842b-332997fcecd9/resourcegroups/myresourcegroup/providers/microsoft.storage/storageaccounts/llachmanmlwork2978954949',\n",
       " 'tags': {},\n",
       " 'type': 'Microsoft.MachineLearningServices/workspaces',\n",
       " 'workspaceid': 'cc72a18c-90b7-444d-b592-8a2d1f1272fb'}"
      ]
     },
     "execution_count": 2,
     "metadata": {},
     "output_type": "execute_result"
    }
   ],
   "source": [
    "from azureml.core import Workspace\n",
    "\n",
    "ws = Workspace.from_config()\n",
    "ws.get_details()"
   ]
  },
  {
   "cell_type": "code",
   "execution_count": 3,
   "metadata": {},
   "outputs": [
    {
     "name": "stdout",
     "output_type": "stream",
     "text": [
      "Found existing cpucluster\n"
     ]
    }
   ],
   "source": [
    "# Don't run.  This is only necessary if you are NOT using a Notebook VM\n",
    "from azureml.core.compute import ComputeTarget, AmlCompute\n",
    "from azureml.core.compute_target import ComputeTargetException\n",
    "\n",
    "# Choose a name for your CPU cluster\n",
    "cpu_cluster_name = \"cpucluster\"\n",
    "\n",
    "# Verify that cluster does not exist already\n",
    "try:\n",
    "    cpu_cluster = ComputeTarget(workspace=ws, name=cpu_cluster_name)\n",
    "    print(\"Found existing cpucluster\")\n",
    "except ComputeTargetException:\n",
    "    print(\"Creating new cpucluster\")\n",
    "    \n",
    "    # Specify the configuration for the new cluster\n",
    "    compute_config = AmlCompute.provisioning_configuration(vm_size=\"STANDARD_D2_V2\",\n",
    "                                                           min_nodes=0,\n",
    "                                                           max_nodes=4)\n",
    "\n",
    "    # Create the cluster with the specified name and configuration\n",
    "    cpu_cluster = ComputeTarget.create(ws, cpu_cluster_name, compute_config)\n",
    "    \n",
    "    # Wait for the cluster to complete, show the output log\n",
    "    cpu_cluster.wait_for_completion(show_output=True)"
   ]
  },
  {
   "cell_type": "code",
   "execution_count": 4,
   "metadata": {},
   "outputs": [],
   "source": [
    "# https://notebooks.azure.com/azureml/projects/azureml-getting-started/html/01.run-experiment.ipynb\n",
    "from azureml.core import Experiment, Run\n",
    "import math, random, pickle"
   ]
  },
  {
   "cell_type": "code",
   "execution_count": 5,
   "metadata": {},
   "outputs": [],
   "source": [
    "experiment = Experiment(workspace = ws, name = \"my-first-experiment\")"
   ]
  },
  {
   "cell_type": "code",
   "execution_count": 6,
   "metadata": {},
   "outputs": [
    {
     "name": "stdout",
     "output_type": "stream",
     "text": [
      "Run completed\n"
     ]
    }
   ],
   "source": [
    "# start a run to estimate Pi value\n",
    "run = experiment.start_logging()\n",
    "\n",
    "pi_counter = 0\n",
    "n_iter = 100000\n",
    "\n",
    "# Log total number of iterations\n",
    "run.log(\"Number of iterations\",n_iter)\n",
    "\n",
    "for i in range(1,n_iter):\n",
    "    # Monte Carlo step to update estimate\n",
    "    x = random.random()\n",
    "    y = random.random()\n",
    "    if x*x + y*y < 1.0:\n",
    "        pi_counter += 1\n",
    "    pi_estimate = 4.0*pi_counter / i\n",
    "    \n",
    "    # Log convergence every 10000 iterations\n",
    "    if i%10000==0:\n",
    "        error = math.pi-pi_estimate\n",
    "        run.log(\"Pi estimate\",pi_estimate)\n",
    "        run.log(\"Error\",error)\n",
    "\n",
    "# Log final results\n",
    "run.log(\"Final estimate\",pi_estimate)\n",
    "run.log(\"Final error\",math.pi-pi_estimate)\n",
    "\n",
    "# Write file containing pi value into run history\n",
    "with open(\"pi_estimate.txt\",\"wb\") as f:\n",
    "    pickle.dump(str(pi_estimate),f)\n",
    "run.upload_file(name = 'outputs/pi_estimate.txt', path_or_stream = './pi_estimate.txt')\n",
    "\n",
    "# Complete tracking and get link to details\n",
    "run.complete()\n",
    "print(\"Run completed\")"
   ]
  },
  {
   "cell_type": "code",
   "execution_count": 7,
   "metadata": {},
   "outputs": [
    {
     "data": {
      "text/html": [
       "<table style=\"width:100%\"><tr><th>Experiment</th><th>Id</th><th>Type</th><th>Status</th><th>Details Page</th><th>Docs Page</th></tr><tr><td>my-first-experiment</td><td>b21d1b8b-22fa-4f8f-999e-63995d3f1d63</td><td></td><td>Running</td><td><a href=\"https://mlworkspace.azure.ai/portal/subscriptions/165934ca-a3be-4df3-842b-332997fcecd9/resourceGroups/myresourcegroup/providers/Microsoft.MachineLearningServices/workspaces/llachmanmlworkspace/experiments/my-first-experiment/runs/b21d1b8b-22fa-4f8f-999e-63995d3f1d63\" target=\"_blank\" rel=\"noopener\">Link to Azure Portal</a></td><td><a href=\"https://docs.microsoft.com/en-us/python/api/azureml-core/azureml.core.run.Run?view=azure-ml-py\" target=\"_blank\" rel=\"noopener\">Link to Documentation</a></td></tr></table>"
      ],
      "text/plain": [
       "Run(Experiment: my-first-experiment,\n",
       "Id: b21d1b8b-22fa-4f8f-999e-63995d3f1d63,\n",
       "Type: None,\n",
       "Status: Running)"
      ]
     },
     "execution_count": 7,
     "metadata": {},
     "output_type": "execute_result"
    }
   ],
   "source": [
    "# Once the run has completed, you can view a detailed report from Azure Portal by simply calling run and following the link\n",
    "run"
   ]
  },
  {
   "cell_type": "code",
   "execution_count": 8,
   "metadata": {},
   "outputs": [
    {
     "data": {
      "text/html": [
       "<table style=\"width:100%\"><tr><th>Name</th><th>Workspace</th><th>Report Page</th><th>Docs Page</th></tr><tr><td>my-first-experiment</td><td>llachmanmlworkspace</td><td><a href=\"https://mlworkspace.azure.ai/portal/subscriptions/165934ca-a3be-4df3-842b-332997fcecd9/resourceGroups/myresourcegroup/providers/Microsoft.MachineLearningServices/workspaces/llachmanmlworkspace/experiments/my-first-experiment\" target=\"_blank\" rel=\"noopener\">Link to Azure Portal</a></td><td><a href=\"https://docs.microsoft.com/en-us/python/api/azureml-core/azureml.core.experiment.Experiment?view=azure-ml-py\" target=\"_blank\" rel=\"noopener\">Link to Documentation</a></td></tr></table>"
      ],
      "text/plain": [
       "Experiment(Name: my-first-experiment,\n",
       "Workspace: llachmanmlworkspace)"
      ]
     },
     "execution_count": 8,
     "metadata": {},
     "output_type": "execute_result"
    }
   ],
   "source": [
    "# You can also view all runs within an experiment. If you run the simulation above multiple times, these runs will appear \n",
    "# under the experiment view and you can compare them\n",
    "experiment"
   ]
  },
  {
   "cell_type": "code",
   "execution_count": null,
   "metadata": {},
   "outputs": [],
   "source": []
  }
 ],
 "metadata": {
  "kernelspec": {
   "display_name": "Python 3.6 - AzureML",
   "language": "python",
   "name": "python3-azureml"
  },
  "language_info": {
   "codemirror_mode": {
    "name": "ipython",
    "version": 3
   },
   "file_extension": ".py",
   "mimetype": "text/x-python",
   "name": "python",
   "nbconvert_exporter": "python",
   "pygments_lexer": "ipython3",
   "version": "3.6.2"
  }
 },
 "nbformat": 4,
 "nbformat_minor": 2
}
