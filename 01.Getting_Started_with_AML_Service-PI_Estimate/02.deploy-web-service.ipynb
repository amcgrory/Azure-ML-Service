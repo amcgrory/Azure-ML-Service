{
 "cells": [
  {
   "cell_type": "code",
   "execution_count": 1,
   "metadata": {},
   "outputs": [],
   "source": [
    "# https://notebooks.azure.com/azureml/projects/azureml-getting-started/html/02.deploy-web-service.ipynb\n",
    "from azureml.core import Workspace, Experiment, Run\n",
    "import math, random, pickle, json"
   ]
  },
  {
   "cell_type": "code",
   "execution_count": 2,
   "metadata": {},
   "outputs": [],
   "source": [
    "ws = Workspace.from_config()"
   ]
  },
  {
   "cell_type": "code",
   "execution_count": 3,
   "metadata": {},
   "outputs": [],
   "source": [
    "# retrieve the latest run from your experiment\n",
    "experiment_name = \"my-first-experiment\"\n",
    "run = list(Experiment(workspace = ws, name = experiment_name).get_runs())[0]"
   ]
  },
  {
   "cell_type": "code",
   "execution_count": 4,
   "metadata": {},
   "outputs": [],
   "source": [
    "# In the previous example you saved a file containing the pi value into run history. \n",
    "# Registering the file makes it into a model that is tracked by Azure ML model management\n",
    "model = run.register_model(model_name = \"pi_estimate\", model_path = \"outputs/pi_estimate.txt\")"
   ]
  },
  {
   "cell_type": "code",
   "execution_count": 10,
   "metadata": {},
   "outputs": [
    {
     "name": "stdout",
     "output_type": "stream",
     "text": [
      "Writing score.py\n"
     ]
    }
   ],
   "source": [
    "%%writefile score.py\n",
    "\n",
    "# Create a 2-part scoring script that computes an area of a circle, given the estimate within the pi_estimate model:\n",
    "#\n",
    "# 1.  The init method that loads the model. You can retrieve registered model using Model.get_model_path method\n",
    "# 2.  The run method that gets invoked when you call the web service. It computes the area of a circle using \n",
    "#     area=π∗radius^2. The inputs and outputs are passed as json-formatted strings\n",
    "import pickle, json\n",
    "from azureml.core.model import Model\n",
    "\n",
    "def init():\n",
    "    global pi_estimate\n",
    "    model_path = Model.get_model_path(model_name = \"pi_estimate\")\n",
    "    with open(model_path, \"rb\") as f:\n",
    "        pi_estimate = float(pickle.load(f))\n",
    "\n",
    "def run(raw_data):\n",
    "    try:\n",
    "        radius = json.loads(raw_data)[\"radius\"]\n",
    "        result = pi_estimate * radius**2\n",
    "        return json.dumps({\"area\": result})\n",
    "    except Exception as e:\n",
    "        result = str(e)\n",
    "        return json.dumps({\"error\": result})"
   ]
  },
  {
   "cell_type": "code",
   "execution_count": 5,
   "metadata": {},
   "outputs": [
    {
     "data": {
      "text/plain": [
       "'myenv.yml'"
      ]
     },
     "execution_count": 5,
     "metadata": {},
     "output_type": "execute_result"
    }
   ],
   "source": [
    "# specify the library dependencies of your scoring script as conda yml file. \n",
    "# This example doesn't use any special libraries, so let's simply use Azure ML's default dependencies\n",
    "from azureml.core.conda_dependencies import CondaDependencies \n",
    "\n",
    "cd = CondaDependencies()\n",
    "cd.save_to_file(\".\", \"myenv.yml\")"
   ]
  },
  {
   "cell_type": "code",
   "execution_count": 6,
   "metadata": {},
   "outputs": [
    {
     "name": "stdout",
     "output_type": "stream",
     "text": [
      "Creating image\n",
      "Running...................................\n",
      "Succeeded\n",
      "Image creation operation finished for image area-calculator:2, operation \"Succeeded\"\n",
      "Creating service\n",
      "Running..............\n",
      "SucceededACI service creation operation finished, operation \"Succeeded\"\n"
     ]
    }
   ],
   "source": [
    "# Deploy the web service on Azure Container Instance: a serverless compute for running Docker images.  Azure ML service takes \n",
    "# care of packaging your model, scoring script and dependencies into Docker image and deploying it\n",
    "from azureml.core.webservice import AciWebservice, Webservice\n",
    "from azureml.core.image import ContainerImage\n",
    "\n",
    "# Define the configuration of compute: ACI with 1 cpu core and 1 gb of memory.\n",
    "aci_config = AciWebservice.deploy_configuration(cpu_cores = 1, memory_gb = 1)\n",
    "\n",
    "# Specify image configuration: scoring script, Python runtime (PySpark is other option), and conda file of library dependencies\n",
    "image_config = ContainerImage.image_configuration(execution_script = \"score.py\", \n",
    "                                    runtime = \"python\", \n",
    "                                    conda_file = \"myenv.yml\")\n",
    "\n",
    "# Deploy the web service as an image containing the registered model.\n",
    "service = Webservice.deploy_from_model(name = \"area-calculator\",\n",
    "                                       deployment_config = aci_config,\n",
    "                                       models = [model],\n",
    "                                       image_config = image_config,\n",
    "                                       workspace = ws)\n",
    "\n",
    "# The service deployment can take several minutes: wait for completion.\n",
    "service.wait_for_deployment(show_output = True)"
   ]
  },
  {
   "cell_type": "code",
   "execution_count": 7,
   "metadata": {},
   "outputs": [
    {
     "data": {
      "application/vnd.jupyter.widget-view+json": {
       "model_id": "607cdb797ccc4f85a7a70ec679b5b605",
       "version_major": 2,
       "version_minor": 0
      },
      "text/plain": [
       "A Jupyter Widget"
      ]
     },
     "metadata": {},
     "output_type": "display_data"
    },
    {
     "data": {
      "text/plain": [
       "<function __main__.get_area>"
      ]
     },
     "execution_count": 7,
     "metadata": {},
     "output_type": "execute_result"
    }
   ],
   "source": [
    "from ipywidgets import interact\n",
    "\n",
    "def get_area(radius):\n",
    "    request = json.dumps({\"radius\": radius})\n",
    "    response = service.run(input_data = request)\n",
    "    return json.loads(response)[\"area\"]\n",
    "\n",
    "interact(get_area,radius=(0,10))"
   ]
  },
  {
   "cell_type": "code",
   "execution_count": 8,
   "metadata": {},
   "outputs": [],
   "source": [
    "service.delete()"
   ]
  },
  {
   "cell_type": "code",
   "execution_count": null,
   "metadata": {},
   "outputs": [],
   "source": []
  }
 ],
 "metadata": {
  "kernelspec": {
   "display_name": "Python 3.6 - AzureML",
   "language": "python",
   "name": "python3-azureml"
  },
  "language_info": {
   "codemirror_mode": {
    "name": "ipython",
    "version": 3
   },
   "file_extension": ".py",
   "mimetype": "text/x-python",
   "name": "python",
   "nbconvert_exporter": "python",
   "pygments_lexer": "ipython3",
   "version": "3.6.2"
  }
 },
 "nbformat": 4,
 "nbformat_minor": 2
}
