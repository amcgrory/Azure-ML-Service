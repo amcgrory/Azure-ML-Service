{
 "cells": [
  {
   "cell_type": "code",
   "execution_count": 1,
   "metadata": {},
   "outputs": [],
   "source": [
    "# https://docs.microsoft.com/en-us/learn/modules/automate-model-selection-with-azure-automl/4-automl-recommend-model\n",
    "# https://notebooks.azure.com/azeltov/projects/MachineLearningNotebooks/html/automl/02.auto-ml-regression.ipynb\n",
    "from azureml.core.workspace import Workspace\n",
    "\n",
    "ws = Workspace.from_config()"
   ]
  },
  {
   "cell_type": "code",
   "execution_count": 2,
   "metadata": {},
   "outputs": [
    {
     "data": {
      "text/plain": [
       "{'applicationInsights': '/subscriptions/165934ca-a3be-4df3-842b-332997fcecd9/resourcegroups/myresourcegroup/providers/microsoft.insights/components/llachmanmlwork7726509491',\n",
       " 'containerRegistry': '/subscriptions/165934ca-a3be-4df3-842b-332997fcecd9/resourceGroups/MyResourceGroup/providers/Microsoft.ContainerRegistry/registries/llachmanmlwo5de1ae17',\n",
       " 'creationTime': '2019-08-10T02:16:58.7668266+00:00',\n",
       " 'description': '',\n",
       " 'friendlyName': '',\n",
       " 'id': '/subscriptions/165934ca-a3be-4df3-842b-332997fcecd9/resourceGroups/MyResourceGroup/providers/Microsoft.MachineLearningServices/workspaces/llachmanMLWorkspace',\n",
       " 'identityPrincipalId': '2166891c-3629-4f17-8f8e-72c1b4d8d9fb',\n",
       " 'identityTenantId': 'c7970e8d-6d07-4b20-bf16-eba4864e56ef',\n",
       " 'identityType': 'SystemAssigned',\n",
       " 'keyVault': '/subscriptions/165934ca-a3be-4df3-842b-332997fcecd9/resourcegroups/myresourcegroup/providers/microsoft.keyvault/vaults/llachmanmlwork6145098727',\n",
       " 'location': 'centralus',\n",
       " 'name': 'llachmanMLWorkspace',\n",
       " 'storageAccount': '/subscriptions/165934ca-a3be-4df3-842b-332997fcecd9/resourcegroups/myresourcegroup/providers/microsoft.storage/storageaccounts/llachmanmlwork2978954949',\n",
       " 'tags': {},\n",
       " 'type': 'Microsoft.MachineLearningServices/workspaces',\n",
       " 'workspaceid': 'cc72a18c-90b7-444d-b592-8a2d1f1272fb'}"
      ]
     },
     "execution_count": 2,
     "metadata": {},
     "output_type": "execute_result"
    }
   ],
   "source": [
    "ws.get_details()"
   ]
  },
  {
   "cell_type": "markdown",
   "metadata": {},
   "source": [
    "## AutoML 02: Regression with Local Compute\n",
    "In this example we use the scikit-learn's diabetes dataset to showcase how you can use AutoML for a simple regression problem.\n",
    "http://scikit-learn.org/stable/datasets/index.html#diabetes-dataset\n",
    "\n",
    "<ol>\n",
    "<li>Create an Experiment in an existing Workspace.\n",
    "<li>Configure AutoML using AutoMLConfig.\n",
    "<li>Train the model using local compute.\n",
    "<li>Explore the results.\n",
    "<li>Test the best fitted model.\n",
    "</ol>"
   ]
  },
  {
   "cell_type": "code",
   "execution_count": 3,
   "metadata": {},
   "outputs": [
    {
     "name": "stderr",
     "output_type": "stream",
     "text": [
      "WARNING: Logging before flag parsing goes to stderr.\n",
      "W0818 15:31:07.713342 140267988920064 deprecation_wrapper.py:119] From /anaconda/envs/azureml_py36/lib/python3.6/site-packages/azureml/automl/core/_vendor/automl/client/core/common/tf_wrappers.py:36: The name tf.logging.set_verbosity is deprecated. Please use tf.compat.v1.logging.set_verbosity instead.\n",
      "\n",
      "W0818 15:31:07.714707 140267988920064 deprecation_wrapper.py:119] From /anaconda/envs/azureml_py36/lib/python3.6/site-packages/azureml/automl/core/_vendor/automl/client/core/common/tf_wrappers.py:36: The name tf.logging.ERROR is deprecated. Please use tf.compat.v1.logging.ERROR instead.\n",
      "\n"
     ]
    }
   ],
   "source": [
    "import logging\n",
    "import os\n",
    "import random\n",
    "\n",
    "from matplotlib import pyplot as plt\n",
    "from matplotlib.pyplot import imshow\n",
    "import numpy as np\n",
    "import pandas as pd\n",
    "from sklearn import datasets\n",
    "\n",
    "import azureml.core\n",
    "from azureml.core.experiment import Experiment\n",
    "from azureml.train.automl import AutoMLConfig\n",
    "from azureml.train.automl.run import AutoMLRun"
   ]
  },
  {
   "cell_type": "code",
   "execution_count": 4,
   "metadata": {},
   "outputs": [
    {
     "data": {
      "text/html": [
       "<div>\n",
       "<style scoped>\n",
       "    .dataframe tbody tr th:only-of-type {\n",
       "        vertical-align: middle;\n",
       "    }\n",
       "\n",
       "    .dataframe tbody tr th {\n",
       "        vertical-align: top;\n",
       "    }\n",
       "\n",
       "    .dataframe thead th {\n",
       "        text-align: right;\n",
       "    }\n",
       "</style>\n",
       "<table border=\"1\" class=\"dataframe\">\n",
       "  <thead>\n",
       "    <tr style=\"text-align: right;\">\n",
       "      <th></th>\n",
       "      <th></th>\n",
       "    </tr>\n",
       "  </thead>\n",
       "  <tbody>\n",
       "    <tr>\n",
       "      <th>SDK version</th>\n",
       "      <td>1.0.53</td>\n",
       "    </tr>\n",
       "    <tr>\n",
       "      <th>Subscription ID</th>\n",
       "      <td>165934ca-a3be-4df3-842b-332997fcecd9</td>\n",
       "    </tr>\n",
       "    <tr>\n",
       "      <th>Workspace Name</th>\n",
       "      <td>llachmanmlworkspace</td>\n",
       "    </tr>\n",
       "    <tr>\n",
       "      <th>Resource Group</th>\n",
       "      <td>myresourcegroup</td>\n",
       "    </tr>\n",
       "    <tr>\n",
       "      <th>Location</th>\n",
       "      <td>centralus</td>\n",
       "    </tr>\n",
       "    <tr>\n",
       "      <th>Project Directory</th>\n",
       "      <td>./automl-regression</td>\n",
       "    </tr>\n",
       "    <tr>\n",
       "      <th>Experiment Name</th>\n",
       "      <td>automl-regression</td>\n",
       "    </tr>\n",
       "  </tbody>\n",
       "</table>\n",
       "</div>"
      ],
      "text/plain": [
       "                                                       \n",
       "SDK version        1.0.53                              \n",
       "Subscription ID    165934ca-a3be-4df3-842b-332997fcecd9\n",
       "Workspace Name     llachmanmlworkspace                 \n",
       "Resource Group     myresourcegroup                     \n",
       "Location           centralus                           \n",
       "Project Directory  ./automl-regression                 \n",
       "Experiment Name    automl-regression                   "
      ]
     },
     "execution_count": 4,
     "metadata": {},
     "output_type": "execute_result"
    }
   ],
   "source": [
    "# Choose a name for the experiment and specify the project folder\n",
    "experiment_name = 'automl-regression'\n",
    "project_folder = './automl-regression'\n",
    "\n",
    "experiment = Experiment(workspace = ws, name = experiment_name)\n",
    "\n",
    "output = {}\n",
    "output['SDK version'] = azureml.core.VERSION\n",
    "output['Subscription ID'] = ws.subscription_id\n",
    "output['Workspace Name'] = ws.name\n",
    "output['Resource Group'] = ws.resource_group\n",
    "output['Location'] = ws.location\n",
    "output['Project Directory'] = project_folder\n",
    "output['Experiment Name'] = experiment.name\n",
    "pd.set_option('display.max_colwidth', -1)\n",
    "pd.DataFrame(data = output, index = ['']).T"
   ]
  },
  {
   "cell_type": "code",
   "execution_count": 5,
   "metadata": {},
   "outputs": [],
   "source": [
    "# Load the diabetes dataset, a well-known built-in small dataset that comes with scikit-learn.\n",
    "from sklearn.datasets import load_diabetes\n",
    "from sklearn.linear_model import Ridge\n",
    "from sklearn.metrics import mean_squared_error\n",
    "from sklearn.model_selection import train_test_split\n",
    "\n",
    "X, y = load_diabetes(return_X_y = True)\n",
    "\n",
    "columns = ['age', 'gender', 'bmi', 'bp', 's1', 's2', 's3', 's4', 's5', 's6']\n",
    "\n",
    "X_train, X_test, y_train, y_test = train_test_split(X, y, test_size = 0.2, random_state = 0)"
   ]
  },
  {
   "cell_type": "markdown",
   "metadata": {},
   "source": [
    "## Configure AutoML\n",
    "\n",
    "| Property | Description |\n",
    "|:---------|------------:|\n",
    "| **task** | classification or regression |\n",
    "| **iteration_timeout_minutes** | Time limit in seconds for each iteration |\n",
    "| **iterations** | Number of iterations.  In each iteration AutoML trains a specific pipeline with the data |\n",
    "| **primary_metric** | This is the metric that you want to optimize. Regression supports the following primary metrics:<br>spearman_correlation<br>normalized_root_mean_squared_error<br>r2_score<br>normalized_mean_absolute_error |\n",
    "| **n_cross_validations** | Number of cross validation splits |\n",
    "| **verbosity** | Verbosity level for log file |\n",
    "| **X** | (sparse) array-like, shape = [n_samples, n_features] |\n",
    "| **y** | (sparse) array-like, shape = [n_samples, ], [n_samples, n_classes]<br>Multi-class targets. An indicator matrix turns on multilabel classification. This should be an array of integers\n",
    "| **path** | Relative path to the project folder. AutoML stores configuration files for the experiment under this folder. You can specify a new empty folder |"
   ]
  },
  {
   "cell_type": "code",
   "execution_count": 6,
   "metadata": {},
   "outputs": [],
   "source": [
    "from azureml.train.automl import AutoMLConfig\n",
    "import logging\n",
    "\n",
    "# Regression metrics include:  \n",
    "# • normalized_root_mean_squared_error\n",
    "# • r2_score\n",
    "# • normalized_mean_absolute_error\n",
    "# • spearman_correlation\n",
    "# Local compute\n",
    "automl_config = AutoMLConfig(task = 'regression',\n",
    "                  iteration_timeout_minutes = 6,\n",
    "                  iterations = 10,\n",
    "                  primary_metric = 'spearman_correlation',\n",
    "                  n_cross_validations = 5,\n",
    "                  debug_log = 'automl.log',\n",
    "                  verbosity = logging.INFO,\n",
    "                  X = X_train,                  # not defined \n",
    "                  y = y_train,                  # not defined\n",
    "                  path = project_folder)"
   ]
  },
  {
   "cell_type": "code",
   "execution_count": 7,
   "metadata": {},
   "outputs": [
    {
     "name": "stdout",
     "output_type": "stream",
     "text": [
      "Running on local machine\n",
      "Parent Run ID: AutoML_680c2f10-32ab-4cfe-9b0d-533428be4360\n",
      "Current status: DatasetCrossValidationSplit. Generating CV splits.\n",
      "Current status: ModelSelection. Beginning model selection.\n",
      "\n",
      "****************************************************************************************************\n",
      "ITERATION: The iteration being evaluated.\n",
      "PIPELINE: A summary description of the pipeline being evaluated.\n",
      "DURATION: Time taken for the current iteration.\n",
      "METRIC: The result of computing score on the fitted pipeline.\n",
      "BEST: The best observed score thus far.\n",
      "****************************************************************************************************\n",
      "\n",
      " ITERATION   PIPELINE                                       DURATION      METRIC      BEST\n",
      "         0   StandardScalerWrapper RandomForest             0:00:12       0.7034    0.7034\n",
      "         1   MinMaxScaler RandomForest                      0:00:10       0.6553    0.7034\n",
      "         2   StandardScalerWrapper ExtremeRandomTrees       0:00:08       0.6942    0.7034\n",
      "         3   StandardScalerWrapper LightGBM                 0:00:09       0.6831    0.7034\n",
      "         4   RobustScaler DecisionTree                      0:00:09       0.4898    0.7034\n",
      "         5   StandardScalerWrapper LassoLars                0:00:09       0.7176    0.7176\n",
      "         6   StandardScalerWrapper LightGBM                 0:00:09       0.6774    0.7176\n",
      "         7   StandardScalerWrapper RandomForest             0:00:09       0.6984    0.7176\n",
      "         8   VotingEnsemble                                 0:00:09       0.7268    0.7268\n",
      "         9   StackEnsemble                                  0:00:09       0.7228    0.7268\n"
     ]
    },
    {
     "data": {
      "text/html": [
       "<table style=\"width:100%\"><tr><th>Experiment</th><th>Id</th><th>Type</th><th>Status</th><th>Details Page</th><th>Docs Page</th></tr><tr><td>automl-regression</td><td>AutoML_680c2f10-32ab-4cfe-9b0d-533428be4360</td><td>automl</td><td>Completed</td><td><a href=\"https://mlworkspace.azure.ai/portal/subscriptions/165934ca-a3be-4df3-842b-332997fcecd9/resourceGroups/myresourcegroup/providers/Microsoft.MachineLearningServices/workspaces/llachmanmlworkspace/experiments/automl-regression/runs/AutoML_680c2f10-32ab-4cfe-9b0d-533428be4360\" target=\"_blank\" rel=\"noopener\">Link to Azure Portal</a></td><td><a href=\"https://docs.microsoft.com/en-us/python/api/overview/azure/ml/intro?view=azure-ml-py\" target=\"_blank\" rel=\"noopener\">Link to Documentation</a></td></tr></table>"
      ],
      "text/plain": [
       "Run(Experiment: automl-regression,\n",
       "Id: AutoML_680c2f10-32ab-4cfe-9b0d-533428be4360,\n",
       "Type: automl,\n",
       "Status: Completed)"
      ]
     },
     "execution_count": 7,
     "metadata": {},
     "output_type": "execute_result"
    }
   ],
   "source": [
    "# Train the models\n",
    "local_run = experiment.submit(automl_config, show_output = True)\n",
    "local_run"
   ]
  },
  {
   "cell_type": "code",
   "execution_count": 8,
   "metadata": {},
   "outputs": [
    {
     "data": {
      "application/vnd.jupyter.widget-view+json": {
       "model_id": "f5c9a3976cc84fbab38d73cbc3b424d1",
       "version_major": 2,
       "version_minor": 0
      },
      "text/plain": [
       "A Jupyter Widget"
      ]
     },
     "metadata": {},
     "output_type": "display_data"
    }
   ],
   "source": [
    "from azureml.widgets import RunDetails\n",
    "\n",
    "# The widget first reports a \"loading\" status while running the first iteration.  After completing the first iteration, an \n",
    "# auto-updating graph and table are shown. The widget refreshes once per minute, so the graph updates as child runs complete\n",
    "RunDetails(local_run).show()"
   ]
  },
  {
   "cell_type": "code",
   "execution_count": 9,
   "metadata": {},
   "outputs": [
    {
     "data": {
      "text/html": [
       "<div>\n",
       "<style scoped>\n",
       "    .dataframe tbody tr th:only-of-type {\n",
       "        vertical-align: middle;\n",
       "    }\n",
       "\n",
       "    .dataframe tbody tr th {\n",
       "        vertical-align: top;\n",
       "    }\n",
       "\n",
       "    .dataframe thead th {\n",
       "        text-align: right;\n",
       "    }\n",
       "</style>\n",
       "<table border=\"1\" class=\"dataframe\">\n",
       "  <thead>\n",
       "    <tr style=\"text-align: right;\">\n",
       "      <th></th>\n",
       "      <th>0</th>\n",
       "      <th>1</th>\n",
       "      <th>2</th>\n",
       "      <th>3</th>\n",
       "      <th>4</th>\n",
       "      <th>5</th>\n",
       "      <th>6</th>\n",
       "      <th>7</th>\n",
       "      <th>8</th>\n",
       "      <th>9</th>\n",
       "    </tr>\n",
       "  </thead>\n",
       "  <tbody>\n",
       "    <tr>\n",
       "      <th>explained_variance</th>\n",
       "      <td>0.50</td>\n",
       "      <td>0.46</td>\n",
       "      <td>0.50</td>\n",
       "      <td>0.49</td>\n",
       "      <td>0.02</td>\n",
       "      <td>0.54</td>\n",
       "      <td>0.45</td>\n",
       "      <td>0.51</td>\n",
       "      <td>0.54</td>\n",
       "      <td>0.54</td>\n",
       "    </tr>\n",
       "    <tr>\n",
       "      <th>mean_absolute_error</th>\n",
       "      <td>45.98</td>\n",
       "      <td>47.23</td>\n",
       "      <td>46.94</td>\n",
       "      <td>46.27</td>\n",
       "      <td>61.13</td>\n",
       "      <td>43.64</td>\n",
       "      <td>46.07</td>\n",
       "      <td>45.67</td>\n",
       "      <td>43.97</td>\n",
       "      <td>44.42</td>\n",
       "    </tr>\n",
       "    <tr>\n",
       "      <th>mean_absolute_percentage_error</th>\n",
       "      <td>41.81</td>\n",
       "      <td>42.40</td>\n",
       "      <td>42.48</td>\n",
       "      <td>42.15</td>\n",
       "      <td>52.55</td>\n",
       "      <td>39.89</td>\n",
       "      <td>39.96</td>\n",
       "      <td>41.12</td>\n",
       "      <td>39.69</td>\n",
       "      <td>40.19</td>\n",
       "    </tr>\n",
       "    <tr>\n",
       "      <th>median_absolute_error</th>\n",
       "      <td>42.29</td>\n",
       "      <td>43.09</td>\n",
       "      <td>44.17</td>\n",
       "      <td>40.70</td>\n",
       "      <td>49.40</td>\n",
       "      <td>37.72</td>\n",
       "      <td>39.72</td>\n",
       "      <td>41.55</td>\n",
       "      <td>41.17</td>\n",
       "      <td>40.87</td>\n",
       "    </tr>\n",
       "    <tr>\n",
       "      <th>normalized_mean_absolute_error</th>\n",
       "      <td>0.14</td>\n",
       "      <td>0.15</td>\n",
       "      <td>0.15</td>\n",
       "      <td>0.14</td>\n",
       "      <td>0.19</td>\n",
       "      <td>0.14</td>\n",
       "      <td>0.14</td>\n",
       "      <td>0.14</td>\n",
       "      <td>0.14</td>\n",
       "      <td>0.14</td>\n",
       "    </tr>\n",
       "    <tr>\n",
       "      <th>normalized_median_absolute_error</th>\n",
       "      <td>0.13</td>\n",
       "      <td>0.13</td>\n",
       "      <td>0.14</td>\n",
       "      <td>0.13</td>\n",
       "      <td>0.15</td>\n",
       "      <td>0.12</td>\n",
       "      <td>0.12</td>\n",
       "      <td>0.13</td>\n",
       "      <td>0.13</td>\n",
       "      <td>0.13</td>\n",
       "    </tr>\n",
       "    <tr>\n",
       "      <th>normalized_root_mean_squared_error</th>\n",
       "      <td>0.17</td>\n",
       "      <td>0.18</td>\n",
       "      <td>0.17</td>\n",
       "      <td>0.18</td>\n",
       "      <td>0.24</td>\n",
       "      <td>0.17</td>\n",
       "      <td>0.18</td>\n",
       "      <td>0.17</td>\n",
       "      <td>0.17</td>\n",
       "      <td>0.17</td>\n",
       "    </tr>\n",
       "    <tr>\n",
       "      <th>normalized_root_mean_squared_log_error</th>\n",
       "      <td>0.17</td>\n",
       "      <td>0.17</td>\n",
       "      <td>0.17</td>\n",
       "      <td>0.17</td>\n",
       "      <td>0.23</td>\n",
       "      <td>0.16</td>\n",
       "      <td>0.17</td>\n",
       "      <td>0.17</td>\n",
       "      <td>0.16</td>\n",
       "      <td>0.16</td>\n",
       "    </tr>\n",
       "    <tr>\n",
       "      <th>r2_score</th>\n",
       "      <td>0.48</td>\n",
       "      <td>0.44</td>\n",
       "      <td>0.48</td>\n",
       "      <td>0.47</td>\n",
       "      <td>0.00</td>\n",
       "      <td>0.52</td>\n",
       "      <td>0.43</td>\n",
       "      <td>0.49</td>\n",
       "      <td>0.52</td>\n",
       "      <td>0.52</td>\n",
       "    </tr>\n",
       "    <tr>\n",
       "      <th>root_mean_squared_error</th>\n",
       "      <td>55.51</td>\n",
       "      <td>57.89</td>\n",
       "      <td>55.99</td>\n",
       "      <td>56.22</td>\n",
       "      <td>77.30</td>\n",
       "      <td>53.31</td>\n",
       "      <td>58.35</td>\n",
       "      <td>55.05</td>\n",
       "      <td>53.41</td>\n",
       "      <td>53.80</td>\n",
       "    </tr>\n",
       "    <tr>\n",
       "      <th>root_mean_squared_log_error</th>\n",
       "      <td>0.43</td>\n",
       "      <td>0.44</td>\n",
       "      <td>0.43</td>\n",
       "      <td>0.44</td>\n",
       "      <td>0.59</td>\n",
       "      <td>0.42</td>\n",
       "      <td>0.44</td>\n",
       "      <td>0.43</td>\n",
       "      <td>0.41</td>\n",
       "      <td>0.42</td>\n",
       "    </tr>\n",
       "    <tr>\n",
       "      <th>spearman_correlation</th>\n",
       "      <td>0.70</td>\n",
       "      <td>0.66</td>\n",
       "      <td>0.69</td>\n",
       "      <td>0.68</td>\n",
       "      <td>0.49</td>\n",
       "      <td>0.72</td>\n",
       "      <td>0.68</td>\n",
       "      <td>0.70</td>\n",
       "      <td>0.73</td>\n",
       "      <td>0.72</td>\n",
       "    </tr>\n",
       "  </tbody>\n",
       "</table>\n",
       "</div>"
      ],
      "text/plain": [
       "                                           0     1     2     3     4     5  \\\n",
       "explained_variance                     0.50  0.46  0.50  0.49  0.02  0.54    \n",
       "mean_absolute_error                    45.98 47.23 46.94 46.27 61.13 43.64   \n",
       "mean_absolute_percentage_error         41.81 42.40 42.48 42.15 52.55 39.89   \n",
       "median_absolute_error                  42.29 43.09 44.17 40.70 49.40 37.72   \n",
       "normalized_mean_absolute_error         0.14  0.15  0.15  0.14  0.19  0.14    \n",
       "normalized_median_absolute_error       0.13  0.13  0.14  0.13  0.15  0.12    \n",
       "normalized_root_mean_squared_error     0.17  0.18  0.17  0.18  0.24  0.17    \n",
       "normalized_root_mean_squared_log_error 0.17  0.17  0.17  0.17  0.23  0.16    \n",
       "r2_score                               0.48  0.44  0.48  0.47  0.00  0.52    \n",
       "root_mean_squared_error                55.51 57.89 55.99 56.22 77.30 53.31   \n",
       "root_mean_squared_log_error            0.43  0.44  0.43  0.44  0.59  0.42    \n",
       "spearman_correlation                   0.70  0.66  0.69  0.68  0.49  0.72    \n",
       "\n",
       "                                           6     7     8     9  \n",
       "explained_variance                     0.45  0.51  0.54  0.54   \n",
       "mean_absolute_error                    46.07 45.67 43.97 44.42  \n",
       "mean_absolute_percentage_error         39.96 41.12 39.69 40.19  \n",
       "median_absolute_error                  39.72 41.55 41.17 40.87  \n",
       "normalized_mean_absolute_error         0.14  0.14  0.14  0.14   \n",
       "normalized_median_absolute_error       0.12  0.13  0.13  0.13   \n",
       "normalized_root_mean_squared_error     0.18  0.17  0.17  0.17   \n",
       "normalized_root_mean_squared_log_error 0.17  0.17  0.16  0.16   \n",
       "r2_score                               0.43  0.49  0.52  0.52   \n",
       "root_mean_squared_error                58.35 55.05 53.41 53.80  \n",
       "root_mean_squared_log_error            0.44  0.43  0.41  0.42   \n",
       "spearman_correlation                   0.68  0.70  0.73  0.72   "
      ]
     },
     "execution_count": 9,
     "metadata": {},
     "output_type": "execute_result"
    }
   ],
   "source": [
    "# Retrieve All Child Runs\n",
    "children = list(local_run.get_children())\n",
    "metricslist = {}\n",
    "for run in children:\n",
    "    properties = run.get_properties()\n",
    "    metrics = {k: v for k, v in run.get_metrics().items() if isinstance(v, float)}\n",
    "    metricslist[int(properties['iteration'])] = metrics\n",
    "\n",
    "rundata = pd.DataFrame(metricslist).sort_index(1)\n",
    "rundata"
   ]
  },
  {
   "cell_type": "code",
   "execution_count": 10,
   "metadata": {},
   "outputs": [
    {
     "name": "stdout",
     "output_type": "stream",
     "text": [
      "Run(Experiment: automl-regression,\n",
      "Id: AutoML_680c2f10-32ab-4cfe-9b0d-533428be4360_8,\n",
      "Type: None,\n",
      "Status: Completed)\n",
      "RegressionPipeline(pipeline=Pipeline(memory=None,\n",
      "     steps=[('prefittedsoftvotingregressor', PreFittedSoftVotingRegressor(estimators=[('5', RegressionPipeline(pipeline=Pipeline(memory=None,\n",
      "     steps=[('StandardScalerWrapper', <automl.client.core.common.model_wrappers.StandardScalerWrapper object at 0x7f91f84e2e80>), ('LassoLars', LassoLars(alpha=0.0...))],\n",
      "               flatten_transform=None,\n",
      "               weights=[0.3, 0.2, 0.1, 0.1, 0.1, 0.2]))]),\n",
      "          stddev=None)\n"
     ]
    }
   ],
   "source": [
    "# Retrieve the best model.  The Model includes the pipeline and any pre-processing.  Overloads on get_output allow you to \n",
    "# retrieve the best run and fitted model for any logged metric or for a particular iteration\n",
    "best_run, fitted_model = local_run.get_output()\n",
    "print(best_run)\n",
    "print(fitted_model)"
   ]
  },
  {
   "cell_type": "code",
   "execution_count": 11,
   "metadata": {},
   "outputs": [
    {
     "name": "stdout",
     "output_type": "stream",
     "text": [
      "Run(Experiment: automl-regression,\n",
      "Id: AutoML_680c2f10-32ab-4cfe-9b0d-533428be4360_5,\n",
      "Type: None,\n",
      "Status: Completed)\n",
      "RegressionPipeline(pipeline=Pipeline(memory=None,\n",
      "     steps=[('StandardScalerWrapper', <automl.client.core.common.model_wrappers.StandardScalerWrapper object at 0x7f91f847ba58>), ('LassoLars', LassoLars(alpha=0.001, copy_X=True, eps=2.220446049250313e-16,\n",
      "     fit_intercept=True, fit_path=True, max_iter=500, normalize=True,\n",
      "     positive=False, precompute='auto', verbose=False))]),\n",
      "          stddev=None)\n"
     ]
    }
   ],
   "source": [
    "# Best Model Based on Any Other Metric\n",
    "# Show the run and the model that has the smallest root_mean_squared_error value \n",
    "# (which turns out to be the same as the one with largest spearman_correlation value):\n",
    "lookup_metric = \"root_mean_squared_error\"\n",
    "best_run, fitted_model = local_run.get_output(metric = lookup_metric)\n",
    "print(best_run)\n",
    "print(fitted_model)"
   ]
  },
  {
   "cell_type": "code",
   "execution_count": 12,
   "metadata": {},
   "outputs": [
    {
     "name": "stdout",
     "output_type": "stream",
     "text": [
      "Run(Experiment: automl-regression,\n",
      "Id: AutoML_680c2f10-32ab-4cfe-9b0d-533428be4360_3,\n",
      "Type: None,\n",
      "Status: Completed)\n",
      "RegressionPipeline(pipeline=Pipeline(memory=None,\n",
      "     steps=[('StandardScalerWrapper', <automl.client.core.common.model_wrappers.StandardScalerWrapper object at 0x7f91f847ba20>), ('LightGBMRegressor', LightGBMRegressor(boosting_type='gbdt', class_weight=None, colsample_bytree=1,\n",
      "         importance_type='split', learning_rate=0.12631947368421054,\n",
      "     ...ent=True,\n",
      "         subsample=0.9, subsample_for_bin=200000, subsample_freq=3,\n",
      "         verbose=-1))]),\n",
      "          stddev=None)\n"
     ]
    }
   ],
   "source": [
    "# Model from a Specific Iteration.  Show the run and the model from the third iteration:\n",
    "iteration = 3\n",
    "third_run, third_model = local_run.get_output(iteration = iteration)\n",
    "print(third_run)\n",
    "print(third_model)"
   ]
  },
  {
   "cell_type": "code",
   "execution_count": 13,
   "metadata": {},
   "outputs": [],
   "source": [
    "# Test the best fitted model\n",
    "y_pred_train = fitted_model.predict(X_train)\n",
    "y_residual_train = y_train - y_pred_train\n",
    "\n",
    "y_pred_test = fitted_model.predict(X_test)\n",
    "y_residual_test = y_test - y_pred_test"
   ]
  },
  {
   "cell_type": "code",
   "execution_count": 14,
   "metadata": {
    "scrolled": true
   },
   "outputs": [
    {
     "data": {
      "image/png": "[encoded data removed]",
      "text/plain": [
       "<Figure size 1152x432 with 2 Axes>"
      ]
     },
     "metadata": {
      "needs_background": "light"
     },
     "output_type": "display_data"
    }
   ],
   "source": [
    "%matplotlib inline\n",
    "import matplotlib.pyplot as plt\n",
    "import numpy as np\n",
    "from sklearn import datasets\n",
    "from sklearn.metrics import mean_squared_error, r2_score\n",
    "\n",
    "# Set up a multi-plot chart.\n",
    "f, (a0, a1) = plt.subplots(1, 2, gridspec_kw = {'width_ratios':[1, 1], 'wspace':0, 'hspace': 0})\n",
    "f.suptitle('Regression Residual Values', fontsize = 18)\n",
    "f.set_figheight(6)\n",
    "f.set_figwidth(16)\n",
    "\n",
    "# Plot residual values of training set.\n",
    "a0.axis([0, 360, -200, 200])\n",
    "a0.plot(y_residual_train, 'bo', alpha = 0.5)\n",
    "a0.plot([-10,360],[0,0], 'r-', lw = 3)\n",
    "a0.text(16,170,'RMSE = {0:.2f}'.format(np.sqrt(mean_squared_error(y_train, y_pred_train))), fontsize = 12)\n",
    "a0.text(16,140,'R2 score = {0:.2f}'.format(r2_score(y_train, y_pred_train)), fontsize = 12)\n",
    "a0.set_xlabel('Training samples', fontsize = 12)\n",
    "a0.set_ylabel('Residual Values', fontsize = 12)\n",
    "\n",
    "# Plot a histogram.\n",
    "a0.hist(y_residual_train, orientation = 'horizontal', color = 'b', bins = 10, histtype = 'step');\n",
    "a0.hist(y_residual_train, orientation = 'horizontal', color = 'b', alpha = 0.2, bins = 10);\n",
    "\n",
    "# Plot residual values of test set.\n",
    "a1.axis([0, 90, -200, 200])\n",
    "a1.plot(y_residual_test, 'bo', alpha = 0.5)\n",
    "a1.plot([-10,360],[0,0], 'r-', lw = 3)\n",
    "a1.text(5,170,'RMSE = {0:.2f}'.format(np.sqrt(mean_squared_error(y_test, y_pred_test))), fontsize = 12)\n",
    "a1.text(5,140,'R2 score = {0:.2f}'.format(r2_score(y_test, y_pred_test)), fontsize = 12)\n",
    "a1.set_xlabel('Test samples', fontsize = 12)\n",
    "a1.set_yticklabels([])\n",
    "\n",
    "# Plot a histogram.\n",
    "a1.hist(y_residual_test, orientation = 'horizontal', color = 'b', bins = 10, histtype = 'step')\n",
    "a1.hist(y_residual_test, orientation = 'horizontal', color = 'b', alpha = 0.2, bins = 10)\n",
    "\n",
    "plt.show()"
   ]
  },
  {
   "cell_type": "markdown",
   "metadata": {},
   "source": [
    "## Register and deploy the ML model with Azure Machine Learning service \n",
    "<b>Register the model</b> in a Machine Learning Model Registry hosted in Azure Machine Learning Service workspace\n",
    "<b>Register an image</b> that pairs a model with an inference script and dependencies required to create a docker container providing the compute environment to run the pipeline.\n",
    "<b>Monitor and collect data</b> about model training, performance, and deployments.\n",
    "<ul>\n",
    "    <li>Determine whether the production data drifts\n",
    "    <li>Make better decisions on when to retrain or optimize your model\n",
    "    <li>Track model usage statistics\n",
    "</ul>\n",
    "\n",
    "The model registry is a single place to keep track of all the models in your Azure Machine Learning Service workspace. "
   ]
  },
  {
   "cell_type": "code",
   "execution_count": 16,
   "metadata": {},
   "outputs": [
    {
     "data": {
      "text/plain": [
       "['./outputs/sklearn_regression_model.pkl']"
      ]
     },
     "execution_count": 16,
     "metadata": {},
     "output_type": "execute_result"
    }
   ],
   "source": [
    "# https://docs.microsoft.com/en-us/learn/modules/register-and-deploy-model-with-amls/4-register-model\n",
    "from sklearn.externals import joblib\n",
    "\n",
    "# Save the model as a pickle file in the outputs folder of the experiment workspace. The pickle file is used to deploy the \n",
    "# model.  The file saved in the outputs folder automatically uploads into the experiment record\n",
    "joblib.dump(value = fitted_model, filename = './outputs/sklearn_regression_model.pkl')"
   ]
  },
  {
   "cell_type": "code",
   "execution_count": 17,
   "metadata": {},
   "outputs": [
    {
     "name": "stdout",
     "output_type": "stream",
     "text": [
      "Registering model sklearn_regression_model.pkl\n"
     ]
    }
   ],
   "source": [
    "from azureml.core.model import Model\n",
    "model = Model.register(model_path = \"./outputs\",\n",
    "                       model_name = \"sklearn_regression_model.pkl\",\n",
    "                       tags = {'area': \"diabetes\", 'type': \"regression\"},\n",
    "                       description = \"Ridge regression model to predict diabetes\",\n",
    "                       workspace = ws)"
   ]
  },
  {
   "cell_type": "code",
   "execution_count": null,
   "metadata": {},
   "outputs": [],
   "source": [
    "%%writefile score.py\n",
    "\n",
    "# Container images allow users to deploy models reliably since the machine learning model always depends on some other \n",
    "# dependencies such as PyTorch. Using containers to deploy machine learning models can avoid dependency issues.\n",
    "# Prepare the following packaged items for # A container image has the following items packaged, which you need to prepare:\n",
    "# • The model itself\n",
    "# • The inference engine, such as PyTorch\n",
    "# • The scoring file (score.py) or other application consuming the model\n",
    "# • Any dependencies needed\n",
    "#\n",
    "# The first step is to create the scoring script, score.py, a file that consumes the model, and defines two functions: \n",
    "# init, which loads the model and run, which does the inference:\n",
    "#\n",
    "# The model scoring script is used to define the call parameters needed by the REST API. \n",
    "\n",
    "from sklearn.externals import joblib\n",
    "from sklearn.linear_model import Ridge\n",
    "from azureml.core.model import Model\n",
    "import json\n",
    "\n",
    "# Load the model\n",
    "def init():\n",
    "    global model\n",
    "    model_path = Model.get_model_path('sklearn_regression_model.pkl')\n",
    "    # deserialize the model file back into a sklearn model\n",
    "    model = joblib.load(model_path)\n",
    "# note you can pass in multiple rows for scoring\n",
    "\n",
    "# Perform the inference\n",
    "def run(raw_data):\n",
    "    try:\n",
    "        data = json.loads(raw_data)['data']\n",
    "        data = numpy.array(data)\n",
    "        result = model.predict(data)\n",
    "        # you can return any datatype if it is JSON-serializable\n",
    "        return result.tolist()\n",
    "    except Exception as e:\n",
    "        error = str(e)\n",
    "        return error"
   ]
  },
  {
   "cell_type": "code",
   "execution_count": null,
   "metadata": {},
   "outputs": [],
   "source": [
    "# The second step is to create the environment YAML file, a conda dependency file that makes sure the dependencies \n",
    "# are included in the image\n",
    "from azureml.core.conda_dependencies import CondaDependencies \n",
    "myenv = CondaDependencies.create(conda_packages=['numpy', 'scikit-learn'])\n",
    "with open('myenv.yml', 'w') as f:\n",
    "    f.write(myenv.serialize_to_string())"
   ]
  },
  {
   "cell_type": "code",
   "execution_count": null,
   "metadata": {},
   "outputs": [],
   "source": [
    "# The third step is preparing the container image for the trained model using the Azure ML SDK to create the image\n",
    "# After the code is executed, you can view the images in the Azure Machine Learning service portal\n",
    "from azureml.core.image import Image, ContainerImage\n",
    "image_config = ContainerImage.image_configuration(runtime= \"python\",\n",
    "                                 execution_script=\"score.py\",\n",
    "                                 conda_file=\"myenv.yml\",\n",
    "                                 tags = {'area': \"diabetes\", 'type': \"regression\"},\n",
    "                                 description = \"Image with ridge regression model\")\n",
    "image = Image.create(name = \"myimage1\",\n",
    "                     # this is the model object \n",
    "                     models = [model],\n",
    "                     image_config = image_config, \n",
    "                     workspace = ws)\n",
    "image.wait_for_creation(show_output = True)"
   ]
  },
  {
   "cell_type": "markdown",
   "metadata": {},
   "source": [
    "## Where to deploy your model\n",
    "https://docs.microsoft.com/en-us/learn/modules/register-and-deploy-model-with-amls/8-where-to-deploy-model\n",
    "Once a model has been trained and you are ready to make it available to your applications and services, you need to deploy it\n",
    "Deploying a model allows it to receive data from a client, process the data with the trained model, and return results back \n",
    "to the client.  AML Service provides several places you can deploy your trained model using the AML SDK, including:\n",
    "\n",
    "| Location | Type | Description |\n",
    "|----------|------|-------------|\n",
    "| [Azure Container Instances (ACI)](https://docs.microsoft.com/en-us/azure/machine-learning/service/how-to-deploy-and-where#aci) |\tTesting\t| Single container instance managed by Azure Container Instances service. Fast deployment speed (< 5 minutes) and is an ideal environment for development and testing |\n",
    "| [Azure Kubernetes Service (AKS)](https://docs.microsoft.com/en-us/azure/machine-learning/service/how-to-deploy-azure-kubernetes-service) | Real-time interface | Set of containers managed by Azure Kubernetes Service that provides high-scale production deployments, auto-scale, and a front end to handle ingress and egress requests. ~20 minutes to set up, but this is a one-time setup and is ideal for production deployment |\n",
    "| [Azure Machine Learning Compute](https://docs.microsoft.com/en-us/azure/machine-learning/service/how-to-deploy-and-where#azuremlcompute) | Batch interface | Run batch prediction on serverless compute. Supports normal and low-priority VMs created and managed by AML service |\n",
    "| [Azure IoT Edge](https://docs.microsoft.com/en-us/azure/machine-learning/service/how-to-deploy-and-where#iotedge) | IoT module |\tLinux or Windows-based device that runs the Azure IoT Edge runtime. Once the model is deployed to IoT Edge devices, the model can be used in the edge device directly without connect to the cloud, which reduces the data transfer amount and reduces the response time |\n",
    "| [Field-programmable gate array (FPGA)](https://docs.microsoft.com/en-us/azure/machine-learning/service/how-to-deploy-and-where#fpga) | Web service | An array of programmable logic blocks, and a hierarchy of reconfigurable interconnects. Compared to CPU and GPUs, FPGAs provide a combination of programmability and performance. The hardware can be programmed so that it can provide model inference with hardware (much faster than software), and the hardware updates to a different set of models, which provides flexibility |"
   ]
  },
  {
   "cell_type": "code",
   "execution_count": null,
   "metadata": {},
   "outputs": [],
   "source": [
    "# Now that we have an image that contains our trained model, use Azure Container Instances to deploy the trained model as a \n",
    "# web service. Two steps:\n",
    "# • Define the deployment configuration, which defines the compute to be created to serve the model to scoring applications\n",
    "#   The following code defines a container that uses 1 CPU and 1 GB of memory:\n",
    "from azureml.core.webservice import AciWebservice\n",
    "aciconfig = AciWebservice.deploy_configuration(cpu_cores = 1, \n",
    "                                          memory_gb = 1, \n",
    "                                          tags = {\"data\": \"mnist\", \"type\": \"classification\"}, \n",
    "                                          description = 'Handwriting recognition')"
   ]
  },
  {
   "cell_type": "code",
   "execution_count": null,
   "metadata": {},
   "outputs": [],
   "source": [
    "# In a prior unit, you created an image and stored it in an object named image. To deploy the image:\n",
    "from azureml.core.webservice import Webservice\n",
    "service_name = 'aci-mnist-13'\n",
    "service = Webservice.deploy_from_image(deployment_config = aciconfig,\n",
    "                                            image = image,\n",
    "                                            name = service_name,\n",
    "                                            workspace = ws)\n",
    "service.wait_for_deployment(show_output = True)\n",
    "\n",
    "# It takes ~3-4 minutes for the web service to deploy. Once it's deployed, we can call it from a client application."
   ]
  },
  {
   "cell_type": "markdown",
   "metadata": {},
   "source": [
    "## Score the data with the deployed model\n",
    "Since the model is deployed as a web service that exposes a REST API, it can be tested with many tools. AML SDK has a built-in \n",
    "testing tool that can work with the deployed web service, like below.  The key part of the code is the service.run call, which \n",
    "sends a JSON formatted document to the deployed web service and the result is displayed."
   ]
  },
  {
   "cell_type": "code",
   "execution_count": null,
   "metadata": {},
   "outputs": [],
   "source": [
    "import json\n",
    "test_sample = json.dumps({'data': [\n",
    "    [1,2,3,4,5,6,7,8,9,10], \n",
    "    [10,9,8,7,6,5,4,3,2,1]\n",
    "]})\n",
    "test_sample = bytes(test_sample,encoding = 'utf8')\n",
    "prediction = service.run(input_data = test_sample)\n",
    "print(prediction)"
   ]
  },
  {
   "cell_type": "markdown",
   "metadata": {},
   "source": [
    "## Remote Runs"
   ]
  },
  {
   "cell_type": "code",
   "execution_count": null,
   "metadata": {},
   "outputs": [],
   "source": [
    "print(ws.compute_targets)"
   ]
  },
  {
   "cell_type": "code",
   "execution_count": null,
   "metadata": {},
   "outputs": [],
   "source": [
    "# https://github.com/Azure/MachineLearningNotebooks/blob/master/how-to-use-azureml/automated-machine-learning/remote-amlcompute/auto-ml-remote-amlcompute.ipynb\n",
    "\n",
    "# Create or Attach existing AmlCompute\n",
    "from azureml.core.compute import AmlCompute\n",
    "from azureml.core.compute import ComputeTarget\n",
    "\n",
    "# Choose a name for your cluster.\n",
    "amlcompute_cluster_name = \"cpucluster\"\n",
    "\n",
    "found = False\n",
    "# Ensure this compute target already exists in the workspace\n",
    "cts = ws.compute_targets\n",
    "if amlcompute_cluster_name in cts and cts[amlcompute_cluster_name].type == 'AmlCompute':\n",
    "    found = True\n",
    "    print('Found existing compute target', amlcompute_cluster_name)\n",
    "    compute_target = cts[amlcompute_cluster_name]\n",
    "\n",
    "if not found:\n",
    "    print('Unable to find compute target attached to workspace...')"
   ]
  },
  {
   "cell_type": "code",
   "execution_count": null,
   "metadata": {},
   "outputs": [],
   "source": [
    "from azureml.core.runconfig import RunConfiguration\n",
    "from azureml.core.conda_dependencies import CondaDependencies\n",
    "import pkg_resources\n",
    "\n",
    "# create a new RunConfig object\n",
    "conda_run_config = RunConfiguration(framework=\"python\")\n",
    "\n",
    "# Set compute target to AmlCompute\n",
    "conda_run_config.target = compute_target\n",
    "conda_run_config.environment.docker.enabled = True\n",
    "conda_run_config.environment.docker.base_image = azureml.core.runconfig.DEFAULT_CPU_IMAGE\n",
    "\n",
    "dprep_dependency = 'azureml-dataprep==' + pkg_resources.get_distribution(\"azureml-dataprep\").version\n",
    "\n",
    "cd = CondaDependencies.create(pip_packages=['azureml-sdk[automl]', dprep_dependency], conda_packages=['numpy','py-xgboost<=0.80'])\n",
    "conda_run_config.environment.python.conda_dependencies = cd"
   ]
  },
  {
   "cell_type": "markdown",
   "metadata": {},
   "source": [
    "## Train\n",
    "\n",
    "Note: When using AmlCompute, you can't pass Numpy arrays directly to the fit method."
   ]
  },
  {
   "cell_type": "code",
   "execution_count": null,
   "metadata": {},
   "outputs": [],
   "source": [
    "automl_settings = {\n",
    "    \"iteration_timeout_minutes\": 10,\n",
    "    \"iterations\": 20,\n",
    "    \"n_cross_validations\": 5,\n",
    "    \"primary_metric\": 'AUC_weighted',\n",
    "    \"preprocess\": False,\n",
    "    \"max_concurrent_iterations\": 5,\n",
    "    \"verbosity\": logging.INFO\n",
    "}\n",
    "\n",
    "automl_config = AutoMLConfig(task = 'classification',\n",
    "                             debug_log = 'automl_errors.log',\n",
    "                             path = project_folder,\n",
    "                             run_configuration=conda_run_config,\n",
    "                             X = X,\n",
    "                             y = y,\n",
    "                             **automl_settings\n",
    "                            )"
   ]
  },
  {
   "cell_type": "code",
   "execution_count": null,
   "metadata": {},
   "outputs": [],
   "source": [
    "remote_run = experiment.submit(automl_config, show_output = False)\n",
    "remote_run"
   ]
  },
  {
   "cell_type": "code",
   "execution_count": null,
   "metadata": {},
   "outputs": [],
   "source": [
    "from azureml.widgets import RunDetails\n",
    "RunDetails(remote_run).show()"
   ]
  },
  {
   "cell_type": "code",
   "execution_count": null,
   "metadata": {},
   "outputs": [],
   "source": [
    "# Wait until the run finishes\n",
    "remote_run.wait_for_completion(show_output = True)"
   ]
  },
  {
   "cell_type": "code",
   "execution_count": null,
   "metadata": {},
   "outputs": [],
   "source": [
    "# Retrieve All Child Runs\n",
    "children = list(remote_run.get_children())\n",
    "metricslist = {}\n",
    "for run in children:\n",
    "    properties = run.get_properties()\n",
    "    metrics = {k: v for k, v in run.get_metrics().items() if isinstance(v, float)}\n",
    "    metricslist[int(properties['iteration'])] = metrics\n",
    "\n",
    "rundata = pd.DataFrame(metricslist).sort_index(1)\n",
    "rundata"
   ]
  },
  {
   "cell_type": "code",
   "execution_count": null,
   "metadata": {},
   "outputs": [],
   "source": [
    "# You can cancel ongoing remote runs using the cancel and cancel_iteration functions.\n",
    "# Cancel the ongoing experiment and stop scheduling new iterations.\n",
    "# remote_run.cancel()\n",
    "\n",
    "# Cancel iteration 1 and move onto iteration 2.\n",
    "# remote_run.cancel_iteration(1)"
   ]
  },
  {
   "cell_type": "markdown",
   "metadata": {},
   "source": [
    "## Retrieve the Best Model"
   ]
  },
  {
   "cell_type": "code",
   "execution_count": null,
   "metadata": {},
   "outputs": [],
   "source": [
    "# get_output() returns the best run and the fitted model. The Model includes the pipeline and any pre-processing. \n",
    "# Overloads on get_output can also retrieve the best run and fitted model for any logged metric or for a particular iteration\n",
    "best_run, fitted_model = remote_run.get_output()\n",
    "print(best_run)\n",
    "print(fitted_model)"
   ]
  },
  {
   "cell_type": "code",
   "execution_count": null,
   "metadata": {},
   "outputs": [],
   "source": [
    "lookup_metric = \"log_loss\"\n",
    "best_run, fitted_model = remote_run.get_output(metric = lookup_metric)\n",
    "print(best_run)\n",
    "print(fitted_model)"
   ]
  },
  {
   "cell_type": "code",
   "execution_count": null,
   "metadata": {},
   "outputs": [],
   "source": [
    "iteration = 3\n",
    "third_run, third_model = remote_run.get_output(iteration=iteration)\n",
    "print(third_run)\n",
    "print(third_model)"
   ]
  },
  {
   "cell_type": "markdown",
   "metadata": {},
   "source": [
    "## Test"
   ]
  },
  {
   "cell_type": "code",
   "execution_count": null,
   "metadata": {},
   "outputs": [],
   "source": [
    "digits = datasets.load_digits()\n",
    "X_test = digits.data[:10, :]\n",
    "y_test = digits.target[:10]\n",
    "images = digits.images[:10]"
   ]
  },
  {
   "cell_type": "code",
   "execution_count": null,
   "metadata": {},
   "outputs": [],
   "source": [
    "# Randomly select digits and test.\n",
    "for index in np.random.choice(len(y_test), 2, replace = False):\n",
    "    print(index)\n",
    "    predicted = fitted_model.predict(X_test[index:index + 1])[0]\n",
    "    label = y_test[index]\n",
    "    title = \"Label value = %d  Predicted value = %d \" % (label, predicted)\n",
    "    fig = plt.figure(1, figsize=(3,3))\n",
    "    ax1 = fig.add_axes((0,0,.8,.8))\n",
    "    ax1.set_title(title)\n",
    "    plt.imshow(images[index], cmap = plt.cm.gray_r, interpolation = 'nearest')\n",
    "    plt.show()"
   ]
  }
 ],
 "metadata": {
  "kernelspec": {
   "display_name": "Python 3.6 - AzureML",
   "language": "python",
   "name": "python3-azureml"
  },
  "language_info": {
   "codemirror_mode": {
    "name": "ipython",
    "version": 3
   },
   "file_extension": ".py",
   "mimetype": "text/x-python",
   "name": "python",
   "nbconvert_exporter": "python",
   "pygments_lexer": "ipython3",
   "version": "3.6.2"
  }
 },
 "nbformat": 4,
 "nbformat_minor": 2
}
